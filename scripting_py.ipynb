{
  "nbformat": 4,
  "nbformat_minor": 0,
  "metadata": {
    "colab": {
      "name": "scripting.py",
      "provenance": [],
      "authorship_tag": "ABX9TyNIJ/7zuXUEFiqzQvdVJ//W",
      "include_colab_link": true
    },
    "kernelspec": {
      "name": "python3",
      "display_name": "Python 3"
    },
    "language_info": {
      "name": "python"
    }
  },
  "cells": [
    {
      "cell_type": "markdown",
      "metadata": {
        "id": "view-in-github",
        "colab_type": "text"
      },
      "source": [
        "<a href=\"https://colab.research.google.com/github/Morrissenzeyi/KNN-and-Naive-bayes-IP/blob/main/scripting_py.ipynb\" target=\"_parent\"><img src=\"https://colab.research.google.com/assets/colab-badge.svg\" alt=\"Open In Colab\"/></a>"
      ]
    },
    {
      "cell_type": "code",
      "metadata": {
        "colab": {
          "base_uri": "https://localhost:8080/"
        },
        "id": "DbQscqelUC60",
        "outputId": "3f893019-4db7-4f49-ee8f-6d3e9c3830ba"
      },
      "source": [
        "# importing libraries\n",
        "import pandas as pd\n",
        "pd.options.display.float_format = \"{:.2f}\".format\n",
        "import numpy as np\n",
        "import matplotlib.pyplot as plt\n",
        "import seaborn as sns\n",
        "from sklearn.model_selection import train_test_split\n",
        "from sklearn.neighbors import KNeighborsRegressor\n",
        "from sklearn.linear_model import Ridge\n",
        "from sklearn.linear_model import ElasticNet\n",
        "from sklearn.discriminant_analysis import LinearDiscriminantAnalysis as lda\n",
        "from sklearn.linear_model import LinearRegression\n",
        "from sklearn.metrics import r2_score\n",
        "from sklearn import metrics\n",
        "from sklearn.ensemble import RandomForestClassifier\n",
        "from sklearn.neighbors import KNeighborsClassifier\n",
        "from sklearn.ensemble import GradientBoostingClassifier\n",
        "from sklearn import metrics\n",
        "from sklearn.svm import SVC\n",
        "from sklearn.metrics import confusion_matrix,accuracy_score, classification_report\n",
        "from sklearn.preprocessing import StandardScaler\n",
        "from sklearn.tree import DecisionTreeRegressor\n",
        "from sklearn.svm import SVR\n",
        "from sklearn.model_selection import GridSearchCV\n",
        "from sklearn import linear_model\n",
        "from sklearn.linear_model import Lasso\n",
        "from sklearn.preprocessing import PolynomialFeatures\n",
        "import statsmodels.regression.quantile_regression as quant\n",
        "import scipy as sp\n",
        "import warnings\n",
        "from sklearn.ensemble import AdaBoostClassifier\n",
        "from sklearn.tree import DecisionTreeClassifier\n",
        "warnings.filterwarnings('ignore')\n",
        "\n",
        "from sklearn.preprocessing import LabelEncoder\n",
        "lb=LabelEncoder()"
      ],
      "execution_count": 1,
      "outputs": [
        {
          "output_type": "stream",
          "name": "stderr",
          "text": [
            "/usr/local/lib/python3.7/dist-packages/statsmodels/tools/_testing.py:19: FutureWarning: pandas.util.testing is deprecated. Use the functions in the public API at pandas.testing instead.\n",
            "  import pandas.util.testing as tm\n"
          ]
        }
      ]
    },
    {
      "cell_type": "code",
      "metadata": {
        "colab": {
          "base_uri": "https://localhost:8080/",
          "height": 204
        },
        "id": "t3TcBJ4bUsdD",
        "outputId": "0568978d-cb17-47b9-8e5d-0714b24d8582"
      },
      "source": [
        "test = pd.read_csv(\"/content/test (1).csv\")\n",
        "test.head()"
      ],
      "execution_count": 2,
      "outputs": [
        {
          "output_type": "execute_result",
          "data": {
            "text/html": [
              "<div>\n",
              "<style scoped>\n",
              "    .dataframe tbody tr th:only-of-type {\n",
              "        vertical-align: middle;\n",
              "    }\n",
              "\n",
              "    .dataframe tbody tr th {\n",
              "        vertical-align: top;\n",
              "    }\n",
              "\n",
              "    .dataframe thead th {\n",
              "        text-align: right;\n",
              "    }\n",
              "</style>\n",
              "<table border=\"1\" class=\"dataframe\">\n",
              "  <thead>\n",
              "    <tr style=\"text-align: right;\">\n",
              "      <th></th>\n",
              "      <th>PassengerId</th>\n",
              "      <th>Pclass</th>\n",
              "      <th>Name</th>\n",
              "      <th>Sex</th>\n",
              "      <th>Age</th>\n",
              "      <th>SibSp</th>\n",
              "      <th>Parch</th>\n",
              "      <th>Ticket</th>\n",
              "      <th>Fare</th>\n",
              "      <th>Cabin</th>\n",
              "      <th>Embarked</th>\n",
              "    </tr>\n",
              "  </thead>\n",
              "  <tbody>\n",
              "    <tr>\n",
              "      <th>0</th>\n",
              "      <td>892</td>\n",
              "      <td>3</td>\n",
              "      <td>Kelly, Mr. James</td>\n",
              "      <td>male</td>\n",
              "      <td>34.50</td>\n",
              "      <td>0</td>\n",
              "      <td>0</td>\n",
              "      <td>330911</td>\n",
              "      <td>7.83</td>\n",
              "      <td>NaN</td>\n",
              "      <td>Q</td>\n",
              "    </tr>\n",
              "    <tr>\n",
              "      <th>1</th>\n",
              "      <td>893</td>\n",
              "      <td>3</td>\n",
              "      <td>Wilkes, Mrs. James (Ellen Needs)</td>\n",
              "      <td>female</td>\n",
              "      <td>47.00</td>\n",
              "      <td>1</td>\n",
              "      <td>0</td>\n",
              "      <td>363272</td>\n",
              "      <td>7.00</td>\n",
              "      <td>NaN</td>\n",
              "      <td>S</td>\n",
              "    </tr>\n",
              "    <tr>\n",
              "      <th>2</th>\n",
              "      <td>894</td>\n",
              "      <td>2</td>\n",
              "      <td>Myles, Mr. Thomas Francis</td>\n",
              "      <td>male</td>\n",
              "      <td>62.00</td>\n",
              "      <td>0</td>\n",
              "      <td>0</td>\n",
              "      <td>240276</td>\n",
              "      <td>9.69</td>\n",
              "      <td>NaN</td>\n",
              "      <td>Q</td>\n",
              "    </tr>\n",
              "    <tr>\n",
              "      <th>3</th>\n",
              "      <td>895</td>\n",
              "      <td>3</td>\n",
              "      <td>Wirz, Mr. Albert</td>\n",
              "      <td>male</td>\n",
              "      <td>27.00</td>\n",
              "      <td>0</td>\n",
              "      <td>0</td>\n",
              "      <td>315154</td>\n",
              "      <td>8.66</td>\n",
              "      <td>NaN</td>\n",
              "      <td>S</td>\n",
              "    </tr>\n",
              "    <tr>\n",
              "      <th>4</th>\n",
              "      <td>896</td>\n",
              "      <td>3</td>\n",
              "      <td>Hirvonen, Mrs. Alexander (Helga E Lindqvist)</td>\n",
              "      <td>female</td>\n",
              "      <td>22.00</td>\n",
              "      <td>1</td>\n",
              "      <td>1</td>\n",
              "      <td>3101298</td>\n",
              "      <td>12.29</td>\n",
              "      <td>NaN</td>\n",
              "      <td>S</td>\n",
              "    </tr>\n",
              "  </tbody>\n",
              "</table>\n",
              "</div>"
            ],
            "text/plain": [
              "   PassengerId  Pclass  ... Cabin Embarked\n",
              "0          892       3  ...   NaN        Q\n",
              "1          893       3  ...   NaN        S\n",
              "2          894       2  ...   NaN        Q\n",
              "3          895       3  ...   NaN        S\n",
              "4          896       3  ...   NaN        S\n",
              "\n",
              "[5 rows x 11 columns]"
            ]
          },
          "metadata": {},
          "execution_count": 2
        }
      ]
    },
    {
      "cell_type": "code",
      "metadata": {
        "colab": {
          "base_uri": "https://localhost:8080/",
          "height": 255
        },
        "id": "CVyrSBlzU7eT",
        "outputId": "7310b4f6-7607-4da9-8d09-121eed1e9931"
      },
      "source": [
        "train = pd.read_csv(\"/content/train (5).csv\")\n",
        "train.head()"
      ],
      "execution_count": 3,
      "outputs": [
        {
          "output_type": "execute_result",
          "data": {
            "text/html": [
              "<div>\n",
              "<style scoped>\n",
              "    .dataframe tbody tr th:only-of-type {\n",
              "        vertical-align: middle;\n",
              "    }\n",
              "\n",
              "    .dataframe tbody tr th {\n",
              "        vertical-align: top;\n",
              "    }\n",
              "\n",
              "    .dataframe thead th {\n",
              "        text-align: right;\n",
              "    }\n",
              "</style>\n",
              "<table border=\"1\" class=\"dataframe\">\n",
              "  <thead>\n",
              "    <tr style=\"text-align: right;\">\n",
              "      <th></th>\n",
              "      <th>PassengerId</th>\n",
              "      <th>Survived</th>\n",
              "      <th>Pclass</th>\n",
              "      <th>Name</th>\n",
              "      <th>Sex</th>\n",
              "      <th>Age</th>\n",
              "      <th>SibSp</th>\n",
              "      <th>Parch</th>\n",
              "      <th>Ticket</th>\n",
              "      <th>Fare</th>\n",
              "      <th>Cabin</th>\n",
              "      <th>Embarked</th>\n",
              "    </tr>\n",
              "  </thead>\n",
              "  <tbody>\n",
              "    <tr>\n",
              "      <th>0</th>\n",
              "      <td>1</td>\n",
              "      <td>0</td>\n",
              "      <td>3</td>\n",
              "      <td>Braund, Mr. Owen Harris</td>\n",
              "      <td>male</td>\n",
              "      <td>22.00</td>\n",
              "      <td>1</td>\n",
              "      <td>0</td>\n",
              "      <td>A/5 21171</td>\n",
              "      <td>7.25</td>\n",
              "      <td>NaN</td>\n",
              "      <td>S</td>\n",
              "    </tr>\n",
              "    <tr>\n",
              "      <th>1</th>\n",
              "      <td>2</td>\n",
              "      <td>1</td>\n",
              "      <td>1</td>\n",
              "      <td>Cumings, Mrs. John Bradley (Florence Briggs Th...</td>\n",
              "      <td>female</td>\n",
              "      <td>38.00</td>\n",
              "      <td>1</td>\n",
              "      <td>0</td>\n",
              "      <td>PC 17599</td>\n",
              "      <td>71.28</td>\n",
              "      <td>C85</td>\n",
              "      <td>C</td>\n",
              "    </tr>\n",
              "    <tr>\n",
              "      <th>2</th>\n",
              "      <td>3</td>\n",
              "      <td>1</td>\n",
              "      <td>3</td>\n",
              "      <td>Heikkinen, Miss. Laina</td>\n",
              "      <td>female</td>\n",
              "      <td>26.00</td>\n",
              "      <td>0</td>\n",
              "      <td>0</td>\n",
              "      <td>STON/O2. 3101282</td>\n",
              "      <td>7.92</td>\n",
              "      <td>NaN</td>\n",
              "      <td>S</td>\n",
              "    </tr>\n",
              "    <tr>\n",
              "      <th>3</th>\n",
              "      <td>4</td>\n",
              "      <td>1</td>\n",
              "      <td>1</td>\n",
              "      <td>Futrelle, Mrs. Jacques Heath (Lily May Peel)</td>\n",
              "      <td>female</td>\n",
              "      <td>35.00</td>\n",
              "      <td>1</td>\n",
              "      <td>0</td>\n",
              "      <td>113803</td>\n",
              "      <td>53.10</td>\n",
              "      <td>C123</td>\n",
              "      <td>S</td>\n",
              "    </tr>\n",
              "    <tr>\n",
              "      <th>4</th>\n",
              "      <td>5</td>\n",
              "      <td>0</td>\n",
              "      <td>3</td>\n",
              "      <td>Allen, Mr. William Henry</td>\n",
              "      <td>male</td>\n",
              "      <td>35.00</td>\n",
              "      <td>0</td>\n",
              "      <td>0</td>\n",
              "      <td>373450</td>\n",
              "      <td>8.05</td>\n",
              "      <td>NaN</td>\n",
              "      <td>S</td>\n",
              "    </tr>\n",
              "  </tbody>\n",
              "</table>\n",
              "</div>"
            ],
            "text/plain": [
              "   PassengerId  Survived  Pclass  ...  Fare Cabin  Embarked\n",
              "0            1         0       3  ...  7.25   NaN         S\n",
              "1            2         1       1  ... 71.28   C85         C\n",
              "2            3         1       3  ...  7.92   NaN         S\n",
              "3            4         1       1  ... 53.10  C123         S\n",
              "4            5         0       3  ...  8.05   NaN         S\n",
              "\n",
              "[5 rows x 12 columns]"
            ]
          },
          "metadata": {},
          "execution_count": 3
        }
      ]
    },
    {
      "cell_type": "code",
      "metadata": {
        "id": "4eX2zCGha6Lj"
      },
      "source": [
        "# replacing age NaN WITH MEAN values of age\n",
        "train['Age'].fillna(train['Age'].mean(),inplace=True)\n",
        "# drop the cabin column\n",
        "train = train.drop(columns=['Cabin'])\n",
        "train = train.dropna()"
      ],
      "execution_count": 4,
      "outputs": []
    },
    {
      "cell_type": "code",
      "metadata": {
        "colab": {
          "base_uri": "https://localhost:8080/"
        },
        "id": "egM8uQPKa-Vi",
        "outputId": "58436317-64e9-47cb-ff63-5aa1376c36c8"
      },
      "source": [
        "# Identifying the duplicate Data\n",
        "\n",
        "len(train)-len(train.drop_duplicates())"
      ],
      "execution_count": 5,
      "outputs": [
        {
          "output_type": "execute_result",
          "data": {
            "text/plain": [
              "0"
            ]
          },
          "metadata": {},
          "execution_count": 5
        }
      ]
    },
    {
      "cell_type": "code",
      "metadata": {
        "colab": {
          "base_uri": "https://localhost:8080/"
        },
        "id": "hf47NQ1qa-YN",
        "outputId": "369faf30-72c6-46a6-a631-2cd3a4117e1b"
      },
      "source": [
        "# Checking for Outliers\n",
        "train1 = train[['Survived', 'Pclass', 'Age', 'SibSp',\n",
        "       'Parch', 'Fare']]\n",
        "Q1 = train1.quantile(0.25)\n",
        "Q3 = train1.quantile(0.75)\n",
        "IQR = Q3 - Q1\n",
        "((train1 < (Q1 - 1.5 * IQR)) | (train1 > (Q3 + 1.5 * IQR))).sum()\n",
        "# we can't drop all this outliers it can affect our work by reducing the quality of the dataset."
      ],
      "execution_count": 6,
      "outputs": [
        {
          "output_type": "execute_result",
          "data": {
            "text/plain": [
              "Survived      0\n",
              "Pclass        0\n",
              "Age          65\n",
              "SibSp        46\n",
              "Parch       213\n",
              "Fare        114\n",
              "dtype: int64"
            ]
          },
          "metadata": {},
          "execution_count": 6
        }
      ]
    },
    {
      "cell_type": "code",
      "metadata": {
        "colab": {
          "base_uri": "https://localhost:8080/"
        },
        "id": "LOf6XbHObCQX",
        "outputId": "3c90465e-ce03-40bf-c569-faf2c31b2581"
      },
      "source": [
        "# Encoding\n",
        "cat_cols = ['Sex']\n",
        "\n",
        "for col in cat_cols:\n",
        "  cat_enc = {'Sex':{'male':0,'female':1}}\n",
        "\n",
        "train.replace(cat_enc, inplace=True)\n",
        "\n",
        "train['Sex'].astype(int)\n",
        "\n",
        "cat_cols = ['Embarked']\n",
        "\n",
        "for col in cat_cols:\n",
        "  cat_enc = {'Embarked':{'S':0,'C':1,'Q':2}}\n",
        "\n",
        "train.replace(cat_enc, inplace=True)\n",
        "\n",
        "train['Embarked'].astype(int)"
      ],
      "execution_count": 7,
      "outputs": [
        {
          "output_type": "execute_result",
          "data": {
            "text/plain": [
              "0      0\n",
              "1      1\n",
              "2      0\n",
              "3      0\n",
              "4      0\n",
              "      ..\n",
              "886    0\n",
              "887    0\n",
              "888    0\n",
              "889    1\n",
              "890    2\n",
              "Name: Embarked, Length: 889, dtype: int64"
            ]
          },
          "metadata": {},
          "execution_count": 7
        }
      ]
    },
    {
      "cell_type": "code",
      "metadata": {
        "colab": {
          "base_uri": "https://localhost:8080/"
        },
        "id": "ABdMHlPlbCTP",
        "outputId": "f82fee1a-353c-4303-b143-6fe60870df41"
      },
      "source": [
        "# checking for missing values\n",
        "test.isna().sum()"
      ],
      "execution_count": 8,
      "outputs": [
        {
          "output_type": "execute_result",
          "data": {
            "text/plain": [
              "PassengerId      0\n",
              "Pclass           0\n",
              "Name             0\n",
              "Sex              0\n",
              "Age             86\n",
              "SibSp            0\n",
              "Parch            0\n",
              "Ticket           0\n",
              "Fare             1\n",
              "Cabin          327\n",
              "Embarked         0\n",
              "dtype: int64"
            ]
          },
          "metadata": {},
          "execution_count": 8
        }
      ]
    },
    {
      "cell_type": "code",
      "metadata": {
        "id": "L2UHzj2TbMhi"
      },
      "source": [
        "# replacing age NaN WITH MEAN values of age\n",
        "test['Age'].fillna(test['Age'].mean(), inplace=True)"
      ],
      "execution_count": 9,
      "outputs": []
    },
    {
      "cell_type": "code",
      "metadata": {
        "id": "WJN-MMn2bMke"
      },
      "source": [
        "# Dropping cabin column\n",
        "test = test.drop(columns=['Cabin'])"
      ],
      "execution_count": 10,
      "outputs": []
    },
    {
      "cell_type": "code",
      "metadata": {
        "colab": {
          "base_uri": "https://localhost:8080/"
        },
        "id": "X9KRLu-sbMnO",
        "outputId": "7acbce1d-e5f0-4197-ab6d-6f28b90dd7f8"
      },
      "source": [
        "# Identifying the duplicate Data\n",
        "\n",
        "len(test)-len(test.drop_duplicates())"
      ],
      "execution_count": 11,
      "outputs": [
        {
          "output_type": "execute_result",
          "data": {
            "text/plain": [
              "0"
            ]
          },
          "metadata": {},
          "execution_count": 11
        }
      ]
    },
    {
      "cell_type": "code",
      "metadata": {
        "colab": {
          "base_uri": "https://localhost:8080/"
        },
        "id": "oa7apzUbbMqQ",
        "outputId": "942a505f-f7be-4050-84c4-7fb3c47c91d9"
      },
      "source": [
        "# Checking for Outliers\n",
        "test1 = test[[ 'Pclass', 'Age', 'SibSp',\n",
        "       'Parch', 'Fare']]\n",
        "Q1 = test1.quantile(0.25)\n",
        "Q3 = test1.quantile(0.75)\n",
        "IQR = Q3 - Q1\n",
        "((train1 < (Q1 - 1.5 * IQR)) | (train1 > (Q3 + 1.5 * IQR))).sum()\n",
        "# we can't drop all this outliers it can affect our work by reducing the quality of the dataset."
      ],
      "execution_count": 12,
      "outputs": [
        {
          "output_type": "execute_result",
          "data": {
            "text/plain": [
              "Age          71\n",
              "Fare        112\n",
              "Parch       213\n",
              "Pclass        0\n",
              "SibSp        46\n",
              "Survived      0\n",
              "dtype: int64"
            ]
          },
          "metadata": {},
          "execution_count": 12
        }
      ]
    },
    {
      "cell_type": "code",
      "metadata": {
        "colab": {
          "base_uri": "https://localhost:8080/",
          "height": 204
        },
        "id": "mhQ-pgnmbcVm",
        "outputId": "16d36fe0-9b51-414a-8355-61f4df24601c"
      },
      "source": [
        "# encoding the Sex column\n",
        "\n",
        "cat_cols = ['Sex']\n",
        "\n",
        "for col in cat_cols:\n",
        "  cat_enc = {'Sex':{'male':0,'female':1}}\n",
        "\n",
        "test.replace(cat_enc, inplace=True)\n",
        "\n",
        "test['Sex'].astype(int)\n",
        "\n",
        "\n",
        "cat_cols = ['Embarked']\n",
        "\n",
        "for col in cat_cols:\n",
        "  cat_enc = {'Embarked':{'S':0,'C':1,'Q':2}}\n",
        "\n",
        "test.replace(cat_enc, inplace=True)\n",
        "\n",
        "test['Embarked'].astype(int)\n",
        "\n",
        "test.head()"
      ],
      "execution_count": 13,
      "outputs": [
        {
          "output_type": "execute_result",
          "data": {
            "text/html": [
              "<div>\n",
              "<style scoped>\n",
              "    .dataframe tbody tr th:only-of-type {\n",
              "        vertical-align: middle;\n",
              "    }\n",
              "\n",
              "    .dataframe tbody tr th {\n",
              "        vertical-align: top;\n",
              "    }\n",
              "\n",
              "    .dataframe thead th {\n",
              "        text-align: right;\n",
              "    }\n",
              "</style>\n",
              "<table border=\"1\" class=\"dataframe\">\n",
              "  <thead>\n",
              "    <tr style=\"text-align: right;\">\n",
              "      <th></th>\n",
              "      <th>PassengerId</th>\n",
              "      <th>Pclass</th>\n",
              "      <th>Name</th>\n",
              "      <th>Sex</th>\n",
              "      <th>Age</th>\n",
              "      <th>SibSp</th>\n",
              "      <th>Parch</th>\n",
              "      <th>Ticket</th>\n",
              "      <th>Fare</th>\n",
              "      <th>Embarked</th>\n",
              "    </tr>\n",
              "  </thead>\n",
              "  <tbody>\n",
              "    <tr>\n",
              "      <th>0</th>\n",
              "      <td>892</td>\n",
              "      <td>3</td>\n",
              "      <td>Kelly, Mr. James</td>\n",
              "      <td>0</td>\n",
              "      <td>34.50</td>\n",
              "      <td>0</td>\n",
              "      <td>0</td>\n",
              "      <td>330911</td>\n",
              "      <td>7.83</td>\n",
              "      <td>2</td>\n",
              "    </tr>\n",
              "    <tr>\n",
              "      <th>1</th>\n",
              "      <td>893</td>\n",
              "      <td>3</td>\n",
              "      <td>Wilkes, Mrs. James (Ellen Needs)</td>\n",
              "      <td>1</td>\n",
              "      <td>47.00</td>\n",
              "      <td>1</td>\n",
              "      <td>0</td>\n",
              "      <td>363272</td>\n",
              "      <td>7.00</td>\n",
              "      <td>0</td>\n",
              "    </tr>\n",
              "    <tr>\n",
              "      <th>2</th>\n",
              "      <td>894</td>\n",
              "      <td>2</td>\n",
              "      <td>Myles, Mr. Thomas Francis</td>\n",
              "      <td>0</td>\n",
              "      <td>62.00</td>\n",
              "      <td>0</td>\n",
              "      <td>0</td>\n",
              "      <td>240276</td>\n",
              "      <td>9.69</td>\n",
              "      <td>2</td>\n",
              "    </tr>\n",
              "    <tr>\n",
              "      <th>3</th>\n",
              "      <td>895</td>\n",
              "      <td>3</td>\n",
              "      <td>Wirz, Mr. Albert</td>\n",
              "      <td>0</td>\n",
              "      <td>27.00</td>\n",
              "      <td>0</td>\n",
              "      <td>0</td>\n",
              "      <td>315154</td>\n",
              "      <td>8.66</td>\n",
              "      <td>0</td>\n",
              "    </tr>\n",
              "    <tr>\n",
              "      <th>4</th>\n",
              "      <td>896</td>\n",
              "      <td>3</td>\n",
              "      <td>Hirvonen, Mrs. Alexander (Helga E Lindqvist)</td>\n",
              "      <td>1</td>\n",
              "      <td>22.00</td>\n",
              "      <td>1</td>\n",
              "      <td>1</td>\n",
              "      <td>3101298</td>\n",
              "      <td>12.29</td>\n",
              "      <td>0</td>\n",
              "    </tr>\n",
              "  </tbody>\n",
              "</table>\n",
              "</div>"
            ],
            "text/plain": [
              "   PassengerId  Pclass  ...  Fare  Embarked\n",
              "0          892       3  ...  7.83         2\n",
              "1          893       3  ...  7.00         0\n",
              "2          894       2  ...  9.69         2\n",
              "3          895       3  ...  8.66         0\n",
              "4          896       3  ... 12.29         0\n",
              "\n",
              "[5 rows x 10 columns]"
            ]
          },
          "metadata": {},
          "execution_count": 13
        }
      ]
    },
    {
      "cell_type": "code",
      "metadata": {
        "id": "ldQn-5cfVCLc"
      },
      "source": [
        "# Split the independent and dependent variables\n",
        "X = train[['Pclass', 'Sex', 'Age', 'SibSp', 'Parch', 'Fare','Embarked']]\n",
        "y = train['Survived']\n",
        "\n",
        "# Train using 80% of the data.\n",
        "X_train, X_test, y_train, y_test = train_test_split(X, y, test_size=0.2, random_state=0)"
      ],
      "execution_count": 14,
      "outputs": []
    },
    {
      "cell_type": "code",
      "metadata": {
        "colab": {
          "base_uri": "https://localhost:8080/"
        },
        "id": "sCjKAcYgarUf",
        "outputId": "dd79614e-3b34-43d1-b58d-4cf1847e4b65"
      },
      "source": [
        "# standardizing the data\n",
        "from sklearn.preprocessing import StandardScaler\n",
        "\n",
        "scaler = StandardScaler()\n",
        "\n",
        "scaler.fit_transform(X)"
      ],
      "execution_count": 15,
      "outputs": [
        {
          "output_type": "execute_result",
          "data": {
            "text/plain": [
              "array([[ 0.82520863, -0.73534203, -0.59049493, ..., -0.47432585,\n",
              "        -0.50023975, -0.56968402],\n",
              "       [-1.57221121,  1.35991138,  0.64397101, ..., -0.47432585,\n",
              "         0.78894661,  1.00313924],\n",
              "       [ 0.82520863,  1.35991138, -0.28187844, ..., -0.47432585,\n",
              "        -0.48664993, -0.56968402],\n",
              "       ...,\n",
              "       [ 0.82520863,  1.35991138,  0.00352373, ...,  2.00611934,\n",
              "        -0.17408416, -0.56968402],\n",
              "       [-1.57221121, -0.73534203, -0.28187844, ..., -0.47432585,\n",
              "        -0.0422126 ,  1.00313924],\n",
              "       [ 0.82520863, -0.73534203,  0.18104628, ..., -0.47432585,\n",
              "        -0.49017322,  2.5759625 ]])"
            ]
          },
          "metadata": {},
          "execution_count": 15
        }
      ]
    },
    {
      "cell_type": "code",
      "metadata": {
        "id": "LssFtOcharXG"
      },
      "source": [
        "# splitting into train an test sets\n",
        "\n",
        "X_train, X_test, y_train, y_test = train_test_split(X,y, test_size = 0.2, random_state=0)\n",
        "\n",
        "# setting the dicision tree classifier\n",
        "\n",
        "# Modelling for training and predictions\n",
        "\n",
        "clf = KNeighborsClassifier(n_neighbors=3)\n",
        "clf = clf.fit(X_train, y_train)\n",
        "\n",
        "# predicting using the model built\n",
        "\n",
        "y_pred = clf.predict(X_test)"
      ],
      "execution_count": 16,
      "outputs": []
    },
    {
      "cell_type": "code",
      "metadata": {
        "colab": {
          "base_uri": "https://localhost:8080/",
          "height": 297
        },
        "id": "B3gt2E9barZt",
        "outputId": "3f41827e-d34d-49e9-d2e7-9b1a601d2661"
      },
      "source": [
        "# comparing the actual and predicted\n",
        "\n",
        "comparison_frame = pd.DataFrame({'Actual': y_test, 'Predicted': y_pred})\n",
        "\n",
        "comparison_frame.describe()"
      ],
      "execution_count": 17,
      "outputs": [
        {
          "output_type": "execute_result",
          "data": {
            "text/html": [
              "<div>\n",
              "<style scoped>\n",
              "    .dataframe tbody tr th:only-of-type {\n",
              "        vertical-align: middle;\n",
              "    }\n",
              "\n",
              "    .dataframe tbody tr th {\n",
              "        vertical-align: top;\n",
              "    }\n",
              "\n",
              "    .dataframe thead th {\n",
              "        text-align: right;\n",
              "    }\n",
              "</style>\n",
              "<table border=\"1\" class=\"dataframe\">\n",
              "  <thead>\n",
              "    <tr style=\"text-align: right;\">\n",
              "      <th></th>\n",
              "      <th>Actual</th>\n",
              "      <th>Predicted</th>\n",
              "    </tr>\n",
              "  </thead>\n",
              "  <tbody>\n",
              "    <tr>\n",
              "      <th>count</th>\n",
              "      <td>178.00</td>\n",
              "      <td>178.00</td>\n",
              "    </tr>\n",
              "    <tr>\n",
              "      <th>mean</th>\n",
              "      <td>0.41</td>\n",
              "      <td>0.36</td>\n",
              "    </tr>\n",
              "    <tr>\n",
              "      <th>std</th>\n",
              "      <td>0.49</td>\n",
              "      <td>0.48</td>\n",
              "    </tr>\n",
              "    <tr>\n",
              "      <th>min</th>\n",
              "      <td>0.00</td>\n",
              "      <td>0.00</td>\n",
              "    </tr>\n",
              "    <tr>\n",
              "      <th>25%</th>\n",
              "      <td>0.00</td>\n",
              "      <td>0.00</td>\n",
              "    </tr>\n",
              "    <tr>\n",
              "      <th>50%</th>\n",
              "      <td>0.00</td>\n",
              "      <td>0.00</td>\n",
              "    </tr>\n",
              "    <tr>\n",
              "      <th>75%</th>\n",
              "      <td>1.00</td>\n",
              "      <td>1.00</td>\n",
              "    </tr>\n",
              "    <tr>\n",
              "      <th>max</th>\n",
              "      <td>1.00</td>\n",
              "      <td>1.00</td>\n",
              "    </tr>\n",
              "  </tbody>\n",
              "</table>\n",
              "</div>"
            ],
            "text/plain": [
              "       Actual  Predicted\n",
              "count  178.00     178.00\n",
              "mean     0.41       0.36\n",
              "std      0.49       0.48\n",
              "min      0.00       0.00\n",
              "25%      0.00       0.00\n",
              "50%      0.00       0.00\n",
              "75%      1.00       1.00\n",
              "max      1.00       1.00"
            ]
          },
          "metadata": {},
          "execution_count": 17
        }
      ]
    },
    {
      "cell_type": "code",
      "metadata": {
        "colab": {
          "base_uri": "https://localhost:8080/"
        },
        "id": "onfpsK91arcT",
        "outputId": "5800e06e-1d12-4636-d387-af367a171d20"
      },
      "source": [
        "# Evaluating the Algorithm\n",
        "print('The accuracy of the model is ',metrics.accuracy_score(y_test, y_pred))"
      ],
      "execution_count": 18,
      "outputs": [
        {
          "output_type": "stream",
          "name": "stdout",
          "text": [
            "The accuracy of the model is  0.6348314606741573\n"
          ]
        }
      ]
    },
    {
      "cell_type": "markdown",
      "metadata": {
        "id": "VmLurWzeb2aQ"
      },
      "source": [
        "**Grid search model**"
      ]
    },
    {
      "cell_type": "code",
      "metadata": {
        "id": "e07APfJtb7oG"
      },
      "source": [
        "#Defining the hyper parameters\n",
        "leaf_size = list(range(1,50))\n",
        "n_neighbors = list(range(1,30))\n",
        "p = [1,2]\n",
        "metric = ['manhattan', 'euclidean', 'minkowski']\n",
        "#Creating a dictionary with the hyperparameters\n",
        "hyperparameters = dict(leaf_size = leaf_size, n_neighbors = n_neighbors, p=p,metric = metric)"
      ],
      "execution_count": 19,
      "outputs": []
    },
    {
      "cell_type": "code",
      "metadata": {
        "colab": {
          "base_uri": "https://localhost:8080/"
        },
        "id": "aYPZES18b7x3",
        "outputId": "7e702a19-6258-471f-f654-618c54643eea"
      },
      "source": [
        "# let's use GridSearch to look for the best parameters\n",
        "from sklearn.model_selection import GridSearchCV\n",
        "\n",
        "classifier = KNeighborsClassifier()\n",
        "\n",
        "clf = GridSearchCV(classifier, hyperparameters,cv=10)\n",
        "clf = clf.fit(X_train, y_train)\n",
        "\n",
        "print('\\n')\n",
        "\n",
        "print(clf.best_params_)\n",
        "print('\\n')\n",
        "#Creating a better model using what the parameters has given to us by the gridsearch\n",
        "modelone = KNeighborsClassifier(leaf_size = clf.best_params_['leaf_size'], n_neighbors = clf.best_params_['n_neighbors'], p = clf.best_params_['p'], metric = clf.best_params_['metric']).fit(X_train, y_train)\n",
        "modelone\n",
        "\n",
        "# predicting using the model built\n",
        "\n",
        "y_pred = modelone.predict(X_test)"
      ],
      "execution_count": 20,
      "outputs": [
        {
          "output_type": "stream",
          "name": "stdout",
          "text": [
            "\n",
            "\n",
            "{'leaf_size': 40, 'metric': 'manhattan', 'n_neighbors': 3, 'p': 1}\n",
            "\n",
            "\n"
          ]
        }
      ]
    },
    {
      "cell_type": "code",
      "metadata": {
        "colab": {
          "base_uri": "https://localhost:8080/"
        },
        "id": "PgSz7z0Rb703",
        "outputId": "89c4aed3-a351-4b95-caee-a3243e9f9b53"
      },
      "source": [
        "# comparing the actual and predicted\n",
        "\n",
        "comparison_frame = pd.DataFrame({'Actual': y_test, 'Predicted': y_pred})\n",
        "print('\\n')\n",
        "print(comparison_frame)\n",
        "print('\\n')\n",
        "print(comparison_frame.describe())"
      ],
      "execution_count": 21,
      "outputs": [
        {
          "output_type": "stream",
          "name": "stdout",
          "text": [
            "\n",
            "\n",
            "     Actual  Predicted\n",
            "14        0          1\n",
            "159       0          0\n",
            "763       1          1\n",
            "741       0          1\n",
            "483       1          0\n",
            "..      ...        ...\n",
            "886       0          0\n",
            "673       1          0\n",
            "182       0          0\n",
            "632       1          0\n",
            "141       1          1\n",
            "\n",
            "[178 rows x 2 columns]\n",
            "\n",
            "\n",
            "       Actual  Predicted\n",
            "count  178.00     178.00\n",
            "mean     0.41       0.38\n",
            "std      0.49       0.49\n",
            "min      0.00       0.00\n",
            "25%      0.00       0.00\n",
            "50%      0.00       0.00\n",
            "75%      1.00       1.00\n",
            "max      1.00       1.00\n"
          ]
        }
      ]
    },
    {
      "cell_type": "code",
      "metadata": {
        "colab": {
          "base_uri": "https://localhost:8080/"
        },
        "id": "GawzvP9Qb74C",
        "outputId": "0687afbf-1b87-4660-9483-8b14c478e73c"
      },
      "source": [
        "print('The accuracy of the model is ',metrics.accuracy_score(y_test, y_pred))\n",
        "print('\\n', 'Confusion matrix')\n",
        "print(confusion_matrix(y_test, y_pred))\n",
        "print('\\n', 'Classification report')\n",
        "print(classification_report(y_test, y_pred))"
      ],
      "execution_count": 22,
      "outputs": [
        {
          "output_type": "stream",
          "name": "stdout",
          "text": [
            "The accuracy of the model is  0.6629213483146067\n",
            "\n",
            " Confusion matrix\n",
            "[[78 27]\n",
            " [33 40]]\n",
            "\n",
            " Classification report\n",
            "              precision    recall  f1-score   support\n",
            "\n",
            "           0       0.70      0.74      0.72       105\n",
            "           1       0.60      0.55      0.57        73\n",
            "\n",
            "    accuracy                           0.66       178\n",
            "   macro avg       0.65      0.65      0.65       178\n",
            "weighted avg       0.66      0.66      0.66       178\n",
            "\n"
          ]
        }
      ]
    },
    {
      "cell_type": "markdown",
      "metadata": {
        "id": "Rh_D9kNNcKLx"
      },
      "source": [
        "**Baseline Model**"
      ]
    },
    {
      "cell_type": "code",
      "metadata": {
        "colab": {
          "base_uri": "https://localhost:8080/"
        },
        "id": "cUEkSiJqb760",
        "outputId": "f80c550b-3074-495c-c6b3-1969815ef0f7"
      },
      "source": [
        "# split the data into labels and features\n",
        "\n",
        "X = train[['Pclass', 'Sex', 'Age', 'SibSp', 'Parch', 'Fare','Embarked']]\n",
        "y = train['Survived']\n",
        "\n",
        "# standardizing the data\n",
        "from sklearn.preprocessing import StandardScaler\n",
        "\n",
        "scaler = StandardScaler()\n",
        "\n",
        "scaler.fit_transform(X)\n",
        "\n",
        "\n",
        "# splitting into train an test sets\n",
        "\n",
        "X_train, X_test, y_train, y_test = train_test_split(X,y, test_size = 0.3, random_state=0)\n",
        "\n",
        "# setting the dicision tree classifier\n",
        "\n",
        "# Modelling for training and predictions\n",
        "\n",
        "clf = KNeighborsClassifier(n_neighbors=3)\n",
        "clf = clf.fit(X_train, y_train)\n",
        "\n",
        "# predicting using the model built\n",
        "y_pred = clf.predict(X_test)\n",
        "\n",
        "# comparing the actual and predicted\n",
        "\n",
        "comparison_frame = pd.DataFrame({'Actual': y_test, 'Predicted': y_pred})\n",
        "comparison_frame.describe()\n",
        "print('The accuracy of the model is ',metrics.accuracy_score(y_test, y_pred))\n",
        "print('\\n', 'Confusion matrix')\n",
        "print(confusion_matrix(y_test, y_pred))\n",
        "print('\\n', 'Classification report')\n",
        "print(classification_report(y_test, y_pred))"
      ],
      "execution_count": 23,
      "outputs": [
        {
          "output_type": "stream",
          "name": "stdout",
          "text": [
            "The accuracy of the model is  0.6404494382022472\n",
            "\n",
            " Confusion matrix\n",
            "[[116  41]\n",
            " [ 55  55]]\n",
            "\n",
            " Classification report\n",
            "              precision    recall  f1-score   support\n",
            "\n",
            "           0       0.68      0.74      0.71       157\n",
            "           1       0.57      0.50      0.53       110\n",
            "\n",
            "    accuracy                           0.64       267\n",
            "   macro avg       0.63      0.62      0.62       267\n",
            "weighted avg       0.63      0.64      0.64       267\n",
            "\n"
          ]
        }
      ]
    },
    {
      "cell_type": "markdown",
      "metadata": {
        "id": "vSokvwvXcV9v"
      },
      "source": [
        "**KNN with Grid search Model 70/30**"
      ]
    },
    {
      "cell_type": "code",
      "metadata": {
        "colab": {
          "base_uri": "https://localhost:8080/"
        },
        "id": "t8q_YvKcb79b",
        "outputId": "e2b11705-0eab-430c-dc89-5d0c454602b8"
      },
      "source": [
        "#Defining the hyper parameters for the Knearest Neighbors Classifier\n",
        "leaf_size = list(range(1,50))\n",
        "n_neighbors = list(range(1,30))\n",
        "p = [1,2]\n",
        "metric = ['manhattan', 'euclidean', 'minkowski']\n",
        "#Creating a dictionary with the hyperparameters\n",
        "hyperparameters = dict(leaf_size = leaf_size, n_neighbors = n_neighbors, p=p,metric = metric)\n",
        "\n",
        "#I used GridSearch to look for the best parameters\n",
        "from sklearn.model_selection import GridSearchCV\n",
        "\n",
        "classifier = KNeighborsClassifier()\n",
        "\n",
        "clf = GridSearchCV(classifier, hyperparameters,cv=10)\n",
        "clf = clf.fit(X_train, y_train)\n",
        "\n",
        "print('\\n')\n",
        "\n",
        "print(clf.best_params_)\n",
        "print('\\n')\n",
        "clf = clf.fit(X_train, y_train)\n",
        "# predicting using the model built\n",
        "\n",
        "y_pred = clf.predict(X_test)\n",
        "# comparing the actual and predicted\n",
        "\n",
        "comparison_frame = pd.DataFrame({'Actual': y_test, 'Predicted': y_pred})\n",
        "print(comparison_frame)\n",
        "comparison_frame.describe()\n",
        "print('The accuracy of the model is ',metrics.accuracy_score(y_test, y_pred))\n",
        "print('\\n', 'Confusion matrix')\n",
        "print(confusion_matrix(y_test, y_pred))\n",
        "print('\\n', 'Classification report')\n",
        "print(classification_report(y_test, y_pred))"
      ],
      "execution_count": 24,
      "outputs": [
        {
          "output_type": "stream",
          "name": "stdout",
          "text": [
            "\n",
            "\n",
            "{'leaf_size': 35, 'metric': 'manhattan', 'n_neighbors': 3, 'p': 1}\n",
            "\n",
            "\n",
            "     Actual  Predicted\n",
            "14        0          1\n",
            "159       0          0\n",
            "763       1          1\n",
            "741       0          1\n",
            "483       1          0\n",
            "..      ...        ...\n",
            "620       0          0\n",
            "821       1          0\n",
            "65        1          0\n",
            "884       0          0\n",
            "52        1          1\n",
            "\n",
            "[267 rows x 2 columns]\n",
            "The accuracy of the model is  0.6891385767790262\n",
            "\n",
            " Confusion matrix\n",
            "[[122  35]\n",
            " [ 48  62]]\n",
            "\n",
            " Classification report\n",
            "              precision    recall  f1-score   support\n",
            "\n",
            "           0       0.72      0.78      0.75       157\n",
            "           1       0.64      0.56      0.60       110\n",
            "\n",
            "    accuracy                           0.69       267\n",
            "   macro avg       0.68      0.67      0.67       267\n",
            "weighted avg       0.69      0.69      0.69       267\n",
            "\n"
          ]
        }
      ]
    },
    {
      "cell_type": "markdown",
      "metadata": {
        "id": "NgxZcRQlcgoR"
      },
      "source": [
        "**Baseline Model - 60/40 split**"
      ]
    },
    {
      "cell_type": "code",
      "metadata": {
        "colab": {
          "base_uri": "https://localhost:8080/",
          "height": 297
        },
        "id": "ISRQ8nI3b8CE",
        "outputId": "bf7b68f8-b705-40d6-8ef1-a67043700e64"
      },
      "source": [
        "# split the data into labels and features\n",
        "\n",
        "X = train[['Pclass', 'Sex', 'Age', 'SibSp', 'Parch', 'Fare','Embarked']]\n",
        "y = train['Survived']\n",
        "\n",
        "\n",
        "# standardizing the data\n",
        "from sklearn.preprocessing import StandardScaler\n",
        "\n",
        "scaler = StandardScaler()\n",
        "\n",
        "scaler.fit_transform(X)\n",
        "\n",
        "\n",
        "# splitting into train an test sets\n",
        "\n",
        "X_train, X_test, y_train, y_test = train_test_split(X,y, test_size = 0.4, random_state=0)\n",
        "\n",
        "# setting the dicision tree classifier\n",
        "\n",
        "# Modelling for training and predictions\n",
        "\n",
        "clf = KNeighborsClassifier(n_neighbors=3)\n",
        "clf = clf.fit(X_train, y_train)\n",
        "# predicting using the model built\n",
        "\n",
        "y_pred = clf.predict(X_test)\n",
        "\n",
        "# comparing the actual and predicted\n",
        "\n",
        "comparison_frame = pd.DataFrame({'Actual': y_test, 'Predicted': y_pred})\n",
        "\n",
        "comparison_frame.describe()"
      ],
      "execution_count": 25,
      "outputs": [
        {
          "output_type": "execute_result",
          "data": {
            "text/html": [
              "<div>\n",
              "<style scoped>\n",
              "    .dataframe tbody tr th:only-of-type {\n",
              "        vertical-align: middle;\n",
              "    }\n",
              "\n",
              "    .dataframe tbody tr th {\n",
              "        vertical-align: top;\n",
              "    }\n",
              "\n",
              "    .dataframe thead th {\n",
              "        text-align: right;\n",
              "    }\n",
              "</style>\n",
              "<table border=\"1\" class=\"dataframe\">\n",
              "  <thead>\n",
              "    <tr style=\"text-align: right;\">\n",
              "      <th></th>\n",
              "      <th>Actual</th>\n",
              "      <th>Predicted</th>\n",
              "    </tr>\n",
              "  </thead>\n",
              "  <tbody>\n",
              "    <tr>\n",
              "      <th>count</th>\n",
              "      <td>356.00</td>\n",
              "      <td>356.00</td>\n",
              "    </tr>\n",
              "    <tr>\n",
              "      <th>mean</th>\n",
              "      <td>0.39</td>\n",
              "      <td>0.36</td>\n",
              "    </tr>\n",
              "    <tr>\n",
              "      <th>std</th>\n",
              "      <td>0.49</td>\n",
              "      <td>0.48</td>\n",
              "    </tr>\n",
              "    <tr>\n",
              "      <th>min</th>\n",
              "      <td>0.00</td>\n",
              "      <td>0.00</td>\n",
              "    </tr>\n",
              "    <tr>\n",
              "      <th>25%</th>\n",
              "      <td>0.00</td>\n",
              "      <td>0.00</td>\n",
              "    </tr>\n",
              "    <tr>\n",
              "      <th>50%</th>\n",
              "      <td>0.00</td>\n",
              "      <td>0.00</td>\n",
              "    </tr>\n",
              "    <tr>\n",
              "      <th>75%</th>\n",
              "      <td>1.00</td>\n",
              "      <td>1.00</td>\n",
              "    </tr>\n",
              "    <tr>\n",
              "      <th>max</th>\n",
              "      <td>1.00</td>\n",
              "      <td>1.00</td>\n",
              "    </tr>\n",
              "  </tbody>\n",
              "</table>\n",
              "</div>"
            ],
            "text/plain": [
              "       Actual  Predicted\n",
              "count  356.00     356.00\n",
              "mean     0.39       0.36\n",
              "std      0.49       0.48\n",
              "min      0.00       0.00\n",
              "25%      0.00       0.00\n",
              "50%      0.00       0.00\n",
              "75%      1.00       1.00\n",
              "max      1.00       1.00"
            ]
          },
          "metadata": {},
          "execution_count": 25
        }
      ]
    },
    {
      "cell_type": "code",
      "metadata": {
        "colab": {
          "base_uri": "https://localhost:8080/"
        },
        "id": "588571qjb8Jb",
        "outputId": "ae293e9a-cf38-448c-e3f3-2f249eb9e2e6"
      },
      "source": [
        "# Evaluating the Algorithm\n",
        "print('The accuracy of the model is ',metrics.accuracy_score(y_test, y_pred))\n",
        "print('\\n', 'Confusion matrix')\n",
        "print(confusion_matrix(y_test, y_pred))\n",
        "print('\\n', 'Classification report')\n",
        "print(classification_report(y_test, y_pred))"
      ],
      "execution_count": 26,
      "outputs": [
        {
          "output_type": "stream",
          "name": "stdout",
          "text": [
            "The accuracy of the model is  0.6544943820224719\n",
            "\n",
            " Confusion matrix\n",
            "[[161  55]\n",
            " [ 68  72]]\n",
            "\n",
            " Classification report\n",
            "              precision    recall  f1-score   support\n",
            "\n",
            "           0       0.70      0.75      0.72       216\n",
            "           1       0.57      0.51      0.54       140\n",
            "\n",
            "    accuracy                           0.65       356\n",
            "   macro avg       0.63      0.63      0.63       356\n",
            "weighted avg       0.65      0.65      0.65       356\n",
            "\n"
          ]
        }
      ]
    },
    {
      "cell_type": "markdown",
      "metadata": {
        "id": "x6HsIipdctU_"
      },
      "source": [
        "**KNN with Grid search Model - 60/40 split**"
      ]
    },
    {
      "cell_type": "code",
      "metadata": {
        "colab": {
          "base_uri": "https://localhost:8080/"
        },
        "id": "AxMy3-3IcqKd",
        "outputId": "f6cc395e-c716-4cb0-e8ff-2ba36aec289a"
      },
      "source": [
        "#Defining the hyper parameters for the Knearest Neighbors Classifier\n",
        "leaf_size = list(range(1,50))\n",
        "n_neighbors = list(range(1,30))\n",
        "p = [1,2]\n",
        "metric = ['manhattan', 'euclidean', 'minkowski']\n",
        "#Creating a dictionary with the hyperparameters\n",
        "hyperparameters = dict(leaf_size = leaf_size, n_neighbors = n_neighbors, p=p,metric = metric)\n",
        "\n",
        "#I used GridSearch to look for the best parameters\n",
        "from sklearn.model_selection import GridSearchCV\n",
        "\n",
        "classifier = KNeighborsClassifier()\n",
        "\n",
        "clf = GridSearchCV(classifier, hyperparameters,cv=10)\n",
        "clf = clf.fit(X_train, y_train)\n",
        "\n",
        "print('\\n')\n",
        "\n",
        "print(clf.best_params_)\n",
        "print('\\n')\n",
        "\n",
        "#Creating a better model based on the parameters given to us by the greadsearch\n",
        "modelthree = KNeighborsClassifier(leaf_size = clf.best_params_['leaf_size'], n_neighbors = clf.best_params_['n_neighbors'], p = clf.best_params_['p'], metric = clf.best_params_['metric']).fit(X_train, y_train)\n",
        "modelthree\n",
        "\n",
        "# predicting using the model built\n",
        "\n",
        "y_pred = modelone.predict(X_test)\n",
        "# comparing the actual and predicted\n",
        "\n",
        "comparison_frame = pd.DataFrame({'Actual': y_test, 'Predicted': y_pred})\n",
        "print('\\n')\n",
        "print(comparison_frame)\n",
        "print('\\n')\n",
        "print(comparison_frame.describe())"
      ],
      "execution_count": 27,
      "outputs": [
        {
          "output_type": "stream",
          "name": "stdout",
          "text": [
            "\n",
            "\n",
            "{'leaf_size': 15, 'metric': 'manhattan', 'n_neighbors': 9, 'p': 1}\n",
            "\n",
            "\n",
            "\n",
            "\n",
            "     Actual  Predicted\n",
            "14        0          1\n",
            "159       0          0\n",
            "763       1          1\n",
            "741       0          1\n",
            "483       1          0\n",
            "..      ...        ...\n",
            "839       1          1\n",
            "820       1          1\n",
            "101       0          0\n",
            "704       0          0\n",
            "739       0          0\n",
            "\n",
            "[356 rows x 2 columns]\n",
            "\n",
            "\n",
            "       Actual  Predicted\n",
            "count  356.00     356.00\n",
            "mean     0.39       0.37\n",
            "std      0.49       0.48\n",
            "min      0.00       0.00\n",
            "25%      0.00       0.00\n",
            "50%      0.00       0.00\n",
            "75%      1.00       1.00\n",
            "max      1.00       1.00\n"
          ]
        }
      ]
    },
    {
      "cell_type": "code",
      "metadata": {
        "colab": {
          "base_uri": "https://localhost:8080/"
        },
        "id": "x-MaplwKcqNL",
        "outputId": "ebc11b0f-e48d-4b2a-ee1c-d6ef0687d47f"
      },
      "source": [
        "# Evaluating the Algorithm\n",
        "print('The accuracy of the model is ',metrics.accuracy_score(y_test, y_pred))\n",
        "print('\\n', 'Confusion matrix')\n",
        "print(confusion_matrix(y_test, y_pred))\n",
        "print('\\n', 'Classification report')\n",
        "print(classification_report(y_test, y_pred))"
      ],
      "execution_count": 28,
      "outputs": [
        {
          "output_type": "stream",
          "name": "stdout",
          "text": [
            "The accuracy of the model is  0.7696629213483146\n",
            "\n",
            " Confusion matrix\n",
            "[[180  36]\n",
            " [ 46  94]]\n",
            "\n",
            " Classification report\n",
            "              precision    recall  f1-score   support\n",
            "\n",
            "           0       0.80      0.83      0.81       216\n",
            "           1       0.72      0.67      0.70       140\n",
            "\n",
            "    accuracy                           0.77       356\n",
            "   macro avg       0.76      0.75      0.76       356\n",
            "weighted avg       0.77      0.77      0.77       356\n",
            "\n"
          ]
        }
      ]
    },
    {
      "cell_type": "code",
      "metadata": {
        "colab": {
          "base_uri": "https://localhost:8080/"
        },
        "id": "L7qCO6JJcqQA",
        "outputId": "4c35c90a-797c-49b0-d732-781e6aa5ca45"
      },
      "source": [
        "# Lets compare the performance of our different models\n",
        "\n",
        "# initialize list of lists\n",
        "data = ['Baseline Model 80/20 split',  0.3539325842696629, 0.3539325842696629, 0.5949223346535772, '64.6%'], ['with Grid search Model - 80/20 split', 0.33146067415730335, 0.33146067415730335, 0.5757262145823338, '66.9%'], ['Baseline Model 70/30 split',  0.3333333333333333, 0.3333333333333333, 0.5773502691896257, '67.0%'], ['with Grid search Model - 70/30 split', 0.299625468164794, 0.299625468164794, 0.5473805515039734, '70%'], ['Baseline Model 60/40 split',  0.32303370786516855, 0.32303370786516855, 0.5683605439025201, '67.7%'], ['with Grid search Model - 60/40 split', 0.22752808988764045, 0.22752808988764045, 0.47699904600286197, '77%']\n",
        " \n",
        "# Create the pandas DataFrame\n",
        "\n",
        "df = pd.DataFrame(data, columns = ['Model_Name','Mean Absolute Error', 'Mean Squared Error','Root Mean Squared Error','Accuracy'])\n",
        " \n",
        "# print dataframe.\n",
        "print(df )"
      ],
      "execution_count": 29,
      "outputs": [
        {
          "output_type": "stream",
          "name": "stdout",
          "text": [
            "                             Model_Name  ...  Accuracy\n",
            "0            Baseline Model 80/20 split  ...     64.6%\n",
            "1  with Grid search Model - 80/20 split  ...     66.9%\n",
            "2            Baseline Model 70/30 split  ...     67.0%\n",
            "3  with Grid search Model - 70/30 split  ...       70%\n",
            "4            Baseline Model 60/40 split  ...     67.7%\n",
            "5  with Grid search Model - 60/40 split  ...       77%\n",
            "\n",
            "[6 rows x 5 columns]\n"
          ]
        }
      ]
    },
    {
      "cell_type": "code",
      "metadata": {
        "colab": {
          "base_uri": "https://localhost:8080/",
          "height": 266
        },
        "id": "cpa9JDNKcqS9",
        "outputId": "3ec88432-3312-42cd-dbc9-ade9b59cb75e"
      },
      "source": [
        "model_compare = pd.DataFrame(df )  #pd. DataFrame(np_array, columns=['Column1', 'Column2']) \n",
        "model_compare.set_index('Model_Name')"
      ],
      "execution_count": 30,
      "outputs": [
        {
          "output_type": "execute_result",
          "data": {
            "text/html": [
              "<div>\n",
              "<style scoped>\n",
              "    .dataframe tbody tr th:only-of-type {\n",
              "        vertical-align: middle;\n",
              "    }\n",
              "\n",
              "    .dataframe tbody tr th {\n",
              "        vertical-align: top;\n",
              "    }\n",
              "\n",
              "    .dataframe thead th {\n",
              "        text-align: right;\n",
              "    }\n",
              "</style>\n",
              "<table border=\"1\" class=\"dataframe\">\n",
              "  <thead>\n",
              "    <tr style=\"text-align: right;\">\n",
              "      <th></th>\n",
              "      <th>Mean Absolute Error</th>\n",
              "      <th>Mean Squared Error</th>\n",
              "      <th>Root Mean Squared Error</th>\n",
              "      <th>Accuracy</th>\n",
              "    </tr>\n",
              "    <tr>\n",
              "      <th>Model_Name</th>\n",
              "      <th></th>\n",
              "      <th></th>\n",
              "      <th></th>\n",
              "      <th></th>\n",
              "    </tr>\n",
              "  </thead>\n",
              "  <tbody>\n",
              "    <tr>\n",
              "      <th>Baseline Model 80/20 split</th>\n",
              "      <td>0.35</td>\n",
              "      <td>0.35</td>\n",
              "      <td>0.59</td>\n",
              "      <td>64.6%</td>\n",
              "    </tr>\n",
              "    <tr>\n",
              "      <th>with Grid search Model - 80/20 split</th>\n",
              "      <td>0.33</td>\n",
              "      <td>0.33</td>\n",
              "      <td>0.58</td>\n",
              "      <td>66.9%</td>\n",
              "    </tr>\n",
              "    <tr>\n",
              "      <th>Baseline Model 70/30 split</th>\n",
              "      <td>0.33</td>\n",
              "      <td>0.33</td>\n",
              "      <td>0.58</td>\n",
              "      <td>67.0%</td>\n",
              "    </tr>\n",
              "    <tr>\n",
              "      <th>with Grid search Model - 70/30 split</th>\n",
              "      <td>0.30</td>\n",
              "      <td>0.30</td>\n",
              "      <td>0.55</td>\n",
              "      <td>70%</td>\n",
              "    </tr>\n",
              "    <tr>\n",
              "      <th>Baseline Model 60/40 split</th>\n",
              "      <td>0.32</td>\n",
              "      <td>0.32</td>\n",
              "      <td>0.57</td>\n",
              "      <td>67.7%</td>\n",
              "    </tr>\n",
              "    <tr>\n",
              "      <th>with Grid search Model - 60/40 split</th>\n",
              "      <td>0.23</td>\n",
              "      <td>0.23</td>\n",
              "      <td>0.48</td>\n",
              "      <td>77%</td>\n",
              "    </tr>\n",
              "  </tbody>\n",
              "</table>\n",
              "</div>"
            ],
            "text/plain": [
              "                                      Mean Absolute Error  ...  Accuracy\n",
              "Model_Name                                                 ...          \n",
              "Baseline Model 80/20 split                           0.35  ...     64.6%\n",
              "with Grid search Model - 80/20 split                 0.33  ...     66.9%\n",
              "Baseline Model 70/30 split                           0.33  ...     67.0%\n",
              "with Grid search Model - 70/30 split                 0.30  ...       70%\n",
              "Baseline Model 60/40 split                           0.32  ...     67.7%\n",
              "with Grid search Model - 60/40 split                 0.23  ...       77%\n",
              "\n",
              "[6 rows x 4 columns]"
            ]
          },
          "metadata": {},
          "execution_count": 30
        }
      ]
    }
  ]
}